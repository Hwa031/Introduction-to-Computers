{
  "nbformat": 4,
  "nbformat_minor": 0,
  "metadata": {
    "colab": {
      "provenance": [],
      "authorship_tag": "ABX9TyNjDchPlGzc/iGbRbasINTs",
      "include_colab_link": true
    },
    "kernelspec": {
      "name": "python3",
      "display_name": "Python 3"
    },
    "language_info": {
      "name": "python"
    }
  },
  "cells": [
    {
      "cell_type": "markdown",
      "metadata": {
        "id": "view-in-github",
        "colab_type": "text"
      },
      "source": [
        "<a href=\"https://colab.research.google.com/github/Hwa031/Introduction-to-Computers/blob/main/0515.ipynb\" target=\"_parent\"><img src=\"https://colab.research.google.com/assets/colab-badge.svg\" alt=\"Open In Colab\"/></a>"
      ]
    },
    {
      "cell_type": "code",
      "execution_count": 3,
      "metadata": {
        "id": "FxwKDXzIPe4x",
        "colab": {
          "base_uri": "https://localhost:8080/"
        },
        "outputId": "4511bf51-79cd-4342-f3f0-24435c525c9d"
      },
      "outputs": [
        {
          "output_type": "stream",
          "name": "stdout",
          "text": [
            "今天會下雨嗎？j\n",
            "unstable\n"
          ]
        }
      ],
      "source": [
        "rain = (input(\"今天會下雨嗎？\"))\n",
        "if (rain == \"Y\" or rain == \"y\"):\n",
        "  print(\"出門記得帶傘！\")\n",
        "elif rain == \"N\":\n",
        "  print(\"No rainy\")\n",
        "else:\n",
        "  print(\"unstable\")"
      ]
    },
    {
      "cell_type": "code",
      "source": [
        "score = int(input(\"請輸入成績：\"))\n",
        "if score >= 90:\n",
        "  print(\"A\")\n",
        "elif 89 >= score >= 80:\n",
        "  print(\"B\")\n",
        "elif 79 >= score >= 70:\n",
        "  print(\"C\")\n",
        "elif 69 >= score >= 60:\n",
        "  print(\"D\")\n",
        "else:\n",
        "  print(\"E\")"
      ],
      "metadata": {
        "colab": {
          "base_uri": "https://localhost:8080/"
        },
        "id": "BKUzWTJBVKmX",
        "outputId": "5bf55a5d-431c-4d31-d73e-e96b31f154a3"
      },
      "execution_count": 7,
      "outputs": [
        {
          "output_type": "stream",
          "name": "stdout",
          "text": [
            "請輸入成績：58\n",
            "E\n"
          ]
        }
      ]
    },
    {
      "cell_type": "code",
      "source": [
        "season = int(input(\"請輸入月份：\"))\n",
        "if (season == 3 or season == 4 or season == 5):\n",
        "  print(\"是春天！\")\n",
        "elif (season == 6 or season == 7 or season == 8):\n",
        "  print(\"是夏天！\")\n",
        "elif (season == 9 or season == 10 or season == 11):\n",
        "  print(\"是秋天！\")\n",
        "elif (season == 12 or season == 1 or season == 2):\n",
        "  print(\"是冬天！\")\n",
        "else:\n",
        "  print(\"月份不在範圍內！\")"
      ],
      "metadata": {
        "colab": {
          "base_uri": "https://localhost:8080/"
        },
        "id": "SEj-WssaW6zL",
        "outputId": "2c325099-52cb-4aa0-a4a0-c960037ff984"
      },
      "execution_count": 15,
      "outputs": [
        {
          "output_type": "stream",
          "name": "stdout",
          "text": [
            "請輸入月份：7\n",
            "是夏天！\n"
          ]
        }
      ]
    },
    {
      "cell_type": "code",
      "source": [
        "income = int(input(\"請輸入今年收入淨額：\"))\n",
        "if income >= 2000000:\n",
        "  tax_rate = 0.3\n",
        "elif income >= 1000000:\n",
        "  tax_rate = 0.21\n",
        "elif income >= 600000:\n",
        "  tax_rate = 0.13\n",
        "elif income >= 300000:\n",
        "  tax_rate = 0.06\n",
        "else:\n",
        "  tax_rate = 0\n",
        "tax_amount = income * tax_rate\n",
        "print(\"您需要繳納的稅金為：\", tax_amount)\n"
      ],
      "metadata": {
        "colab": {
          "base_uri": "https://localhost:8080/"
        },
        "id": "agTlBatxZrQR",
        "outputId": "3bc45aa7-5517-4c41-ad30-2a875a0455fa"
      },
      "execution_count": 16,
      "outputs": [
        {
          "output_type": "stream",
          "name": "stdout",
          "text": [
            "請輸入今年收入淨額：2000000\n",
            "您需要繳納的稅金為： 600000.0\n"
          ]
        }
      ]
    },
    {
      "cell_type": "code",
      "source": [
        "purchase_amount = int(input(\"請輸入您的消費金額：\"))\n",
        "if purchase_amount >= 100000:\n",
        "    discount = 0.8\n",
        "elif purchase_amount >= 50000:\n",
        "    discount = 0.85\n",
        "elif purchase_amount >= 30000:\n",
        "    discount = 0.9\n",
        "elif purchase_amount >= 10000:\n",
        "    discount = 0.95\n",
        "else:\n",
        "    discount = 1\n",
        "final_amount = purchase_amount * discount\n",
        "print(\"您的最終金額為：\", final_amount)"
      ],
      "metadata": {
        "colab": {
          "base_uri": "https://localhost:8080/"
        },
        "id": "PsFMYQmecmy_",
        "outputId": "ceaff269-6486-4549-c35f-19d7af8b3f48"
      },
      "execution_count": 19,
      "outputs": [
        {
          "output_type": "stream",
          "name": "stdout",
          "text": [
            "請輸入您的消費金額：198760\n",
            "您的最終金額為： 159008.0\n"
          ]
        }
      ]
    }
  ]
}